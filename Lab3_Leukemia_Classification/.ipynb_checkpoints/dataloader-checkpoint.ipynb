{
 "cells": [
  {
   "cell_type": "code",
   "execution_count": 46,
   "id": "976e6760",
   "metadata": {},
   "outputs": [],
   "source": [
    "import os\n",
    "import pandas as pd\n",
    "import numpy as np\n",
    "from PIL import Image\n",
    "from torch.utils import data\n",
    "from torchvision import datasets, transforms"
   ]
  },
  {
   "cell_type": "code",
   "execution_count": 29,
   "id": "8079e8cd",
   "metadata": {
    "scrolled": true
   },
   "outputs": [
    {
     "data": {
      "text/plain": [
       "7995"
      ]
     },
     "execution_count": 29,
     "metadata": {},
     "output_type": "execute_result"
    }
   ],
   "source": [
    "def getData(mode):\n",
    "    if mode == 'train':\n",
    "        df = pd.read_csv('train.csv')\n",
    "        path = df['Path'].tolist()\n",
    "        label = df['label'].tolist()\n",
    "        return path, label\n",
    "    \n",
    "    elif mode == 'valid':\n",
    "        df = pd.read_csv('valid.csv')\n",
    "        path = df['Path'].tolist()\n",
    "        label = df['label'].tolist()\n",
    "        return path, label\n",
    "    \n",
    "    else:\n",
    "        df = pd.read_csv('resnet_18_test.csv')\n",
    "        path = df['Path'].tolist()\n",
    "        return path\n",
    "\n",
    "    \n",
    "    \n",
    "path, label = getData(mode=\"train\")\n",
    "\n",
    "w, h = Image.open(path[0]).size # (w, h) 450 * 450 pixels\n",
    "\n",
    "len(label) # 7995"
   ]
  },
  {
   "cell_type": "code",
   "execution_count": 49,
   "id": "430d9a73",
   "metadata": {
    "scrolled": true
   },
   "outputs": [
    {
     "name": "stdout",
     "output_type": "stream",
     "text": [
      "> Found 7995 images...\n"
     ]
    },
    {
     "data": {
      "text/plain": [
       "(tensor([[[-0.5590, -0.5590, -0.5590,  ..., -0.5590, -0.5590, -0.5590],\n",
       "          [-0.5590, -0.5590, -0.5590,  ..., -0.5590, -0.5590, -0.5590],\n",
       "          [-0.5590, -0.5590, -0.5590,  ..., -0.5590, -0.5590, -0.5590],\n",
       "          ...,\n",
       "          [-0.5590, -0.5590, -0.5590,  ..., -0.5590, -0.5590, -0.5590],\n",
       "          [-0.5590, -0.5590, -0.5590,  ..., -0.5590, -0.5590, -0.5590],\n",
       "          [-0.5590, -0.5590, -0.5590,  ..., -0.5590, -0.5590, -0.5590]],\n",
       " \n",
       "         [[-0.5179, -0.5179, -0.5179,  ..., -0.5179, -0.5179, -0.5179],\n",
       "          [-0.5179, -0.5179, -0.5179,  ..., -0.5179, -0.5179, -0.5179],\n",
       "          [-0.5179, -0.5179, -0.5179,  ..., -0.5179, -0.5179, -0.5179],\n",
       "          ...,\n",
       "          [-0.5179, -0.5179, -0.5179,  ..., -0.5179, -0.5179, -0.5179],\n",
       "          [-0.5179, -0.5179, -0.5179,  ..., -0.5179, -0.5179, -0.5179],\n",
       "          [-0.5179, -0.5179, -0.5179,  ..., -0.5179, -0.5179, -0.5179]],\n",
       " \n",
       "         [[-0.4022, -0.4022, -0.4022,  ..., -0.4022, -0.4022, -0.4022],\n",
       "          [-0.4022, -0.4022, -0.4022,  ..., -0.4022, -0.4022, -0.4022],\n",
       "          [-0.4022, -0.4022, -0.4022,  ..., -0.4022, -0.4022, -0.4022],\n",
       "          ...,\n",
       "          [-0.4022, -0.4022, -0.4022,  ..., -0.4022, -0.4022, -0.4022],\n",
       "          [-0.4022, -0.4022, -0.4022,  ..., -0.4022, -0.4022, -0.4022],\n",
       "          [-0.4022, -0.4022, -0.4022,  ..., -0.4022, -0.4022, -0.4022]]]),\n",
       " 0)"
      ]
     },
     "execution_count": 49,
     "metadata": {},
     "output_type": "execute_result"
    }
   ],
   "source": [
    "class RetinopathyLoader(data.Dataset):\n",
    "    def __init__(self, root, mode):\n",
    "        \"\"\"\n",
    "        Args:\n",
    "            root (string): Root path of the dataset.\n",
    "            mode : Indicate procedure status(training or testing)\n",
    "\n",
    "            self.img_name (string list): String list that store all image names.\n",
    "            self.label (int or float list): Numerical list that store all ground truth label values.\n",
    "        \"\"\"\n",
    "        self.root = root\n",
    "        self.img_name, self.label = getData(mode)\n",
    "        self.mode = mode\n",
    "        print(\"> Found %d images...\" % (len(self.img_name)))\n",
    "\n",
    "    def __len__(self):\n",
    "        \"\"\"'return the size of dataset\"\"\"\n",
    "        return len(self.img_name)\n",
    "\n",
    "    def __getitem__(self, index):\n",
    "\n",
    "        \"\"\"\n",
    "           step1. Get the image path from 'self.img_name' and load it.\n",
    "                  hint : path = root + self.img_name[index] + '.jpeg'\n",
    "\n",
    "           step2. Get the ground truth label from self.label\n",
    "\n",
    "           step3. Transform the .jpeg rgb images during the training phase, such as resizing, random flipping, \n",
    "                  rotation, cropping, normalization etc. But at the beginning, I suggest you follow the hints. \n",
    "\n",
    "                  In the testing phase, if you have a normalization process during the training phase, you only need \n",
    "                  to normalize the data. \n",
    "\n",
    "                  hints : Convert the pixel value to [0, 1]\n",
    "                          Transpose the image shape from [H, W, C] to [C, H, W]\n",
    "\n",
    "            step4. Return processed image and label\n",
    "        \"\"\"\n",
    "\n",
    "        img_path = os.path.join(self.root, self.img_name[index]) # + '.jpeg'\n",
    "        img = Image.open(img_path)\n",
    "        \n",
    "        if self.mode == 'train':\n",
    "            transform=transforms.Compose([\n",
    "                transforms.CenterCrop(400), # crops the center region of the image with a square size of height\n",
    "                # transforms.Resize(400), # (h, w) 512x512 pixels\n",
    "                transforms.RandomHorizontalFlip(), #  randomly flips the image horizontally with a 50% chance\n",
    "                transforms.RandomRotation(degrees=15), # randomly rotates the image by a maximum of 15 degree\n",
    "                transforms.ToTensor(),\n",
    "                transforms.Normalize(mean=(0.485, 0.456, 0.406), std=(0.229, 0.224, 0.225)),\n",
    "                # Add an additional transformation to rescale pixel values to [0, 1]\n",
    "                # transforms.Lambda(lambda x: (x + 1.0) / 2.0)\n",
    "            ])\n",
    "        else:\n",
    "            transform=transforms.Compose([\n",
    "                transforms.CenterCrop(400),\n",
    "                # transforms.Resize(400),\n",
    "                transforms.ToTensor(),\n",
    "                transforms.Normalize(mean=(0.485, 0.456, 0.406), std=(0.229, 0.224, 0.225)),\n",
    "                # Add an additional transformation to rescale pixel values to [0, 1]\n",
    "                # transforms.Lambda(lambda x: (x + 1.0) / 2.0)\n",
    "            ])\n",
    "        \n",
    "        img = transform(img) \n",
    "        \n",
    "        # print(img[0].shape)\n",
    "        \n",
    "        label = self.label[index]\n",
    "\n",
    "        return img, label\n",
    "    \n",
    "RetLoader = RetinopathyLoader(root = \"\", mode=\"train\")\n",
    "RetLoader.__getitem__(1)"
   ]
  },
  {
   "cell_type": "code",
   "execution_count": null,
   "id": "35ed5ca8",
   "metadata": {},
   "outputs": [],
   "source": []
  }
 ],
 "metadata": {
  "kernelspec": {
   "display_name": "Python 3 (ipykernel)",
   "language": "python",
   "name": "python3"
  },
  "language_info": {
   "codemirror_mode": {
    "name": "ipython",
    "version": 3
   },
   "file_extension": ".py",
   "mimetype": "text/x-python",
   "name": "python",
   "nbconvert_exporter": "python",
   "pygments_lexer": "ipython3",
   "version": "3.11.3"
  }
 },
 "nbformat": 4,
 "nbformat_minor": 5
}
